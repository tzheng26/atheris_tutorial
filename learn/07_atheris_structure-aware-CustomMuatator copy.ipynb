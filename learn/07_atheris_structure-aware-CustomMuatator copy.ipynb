{
 "cells": [
  {
   "cell_type": "markdown",
   "metadata": {},
   "source": [
    "# Atheris: Structure-aware fuzzing--CustomMuatator"
   ]
  },
  {
   "cell_type": "markdown",
   "metadata": {},
   "source": [
    "### 随机变异很难满足结构化数据"
   ]
  },
  {
   "cell_type": "code",
   "execution_count": null,
   "metadata": {},
   "outputs": [],
   "source": [
    "import atheris\n",
    "import zlib\n",
    "import sys\n",
    "\n",
    "\n",
    "@atheris.instrument_func\n",
    "def TestOneInput(data):\n",
    "  try:\n",
    "    decompressed = zlib.decompress(data)\n",
    "  except zlib.error:\n",
    "    return\n",
    "\n",
    "  if len(decompressed) < 2:\n",
    "    return\n",
    "\n",
    "  try:\n",
    "    if decompressed.decode() == 'FU':\n",
    "      raise RuntimeError('Boom')\n",
    "  except UnicodeDecodeError:\n",
    "    pass\n",
    "  \n",
    "def main():\n",
    "  atheris.Setup(sys.argv, TestOneInput)\n",
    "  atheris.Fuzz()\n",
    "\n",
    "if __name__ == '__main__':\n",
    "    main()"
   ]
  },
  {
   "cell_type": "markdown",
   "metadata": {},
   "source": [
    "p.s. introduction of `zlib` can be found in [this notebook](./support_material/07_zlib_demo.ipynb).\n",
    "\n",
    "To reach the `RuntimeError` crash, the fuzzer needs to be able to produce inputs that are valid compressed data and satisfy the checks after decompression. \n",
    "\n",
    "It is very unlikely that Atheris will be able to produce such inputs: mutations on the input data will most probably result in invalid data that will fail at decompression-time."
   ]
  },
  {
   "cell_type": "markdown",
   "metadata": {},
   "source": [
    "### 自定义变异函数 CustomMutator\n",
    "\n",
    "To overcome this issue, you can define a custom mutator function (equivalent to `LLVMFuzzerCustomMutator`). \n",
    "\n",
    "This example produces valid compressed data. \n",
    "\n",
    "To enable Atheris to make use of it, pass the custom mutator function to the invocation of `atheris.Setup`."
   ]
  },
  {
   "cell_type": "code",
   "execution_count": null,
   "metadata": {},
   "outputs": [],
   "source": [
    "# learn/support_material/07_custom_mutator.py\n",
    "import atheris\n",
    "\n",
    "with atheris.instrument_imports():\n",
    "    import sys\n",
    "    import zlib\n",
    "\n",
    "\n",
    "def CustomMutator(data, max_size, seed):\n",
    "    try:\n",
    "        decompressed = zlib.decompress(data)\n",
    "    except zlib.error:\n",
    "        decompressed = b\"Hi\"\n",
    "    else:\n",
    "        decompressed = atheris.Mutate(decompressed, len(decompressed))\n",
    "    return zlib.compress(decompressed)\n",
    "\n",
    "\n",
    "@atheris.instrument_func  # Instrument the TestOneInput function itself\n",
    "def TestOneInput(data):\n",
    "    \"\"\"The entry point for our fuzzer.\n",
    "\n",
    "    This is a callback that will be repeatedly invoked with different arguments\n",
    "    after Fuzz() is called.\n",
    "    We translate the arbitrary byte string into a format our function being fuzzed\n",
    "    can understand, then call it.\n",
    "\n",
    "    Args:\n",
    "      data: Bytestring coming from the fuzzing engine.\n",
    "    \"\"\"\n",
    "\n",
    "    try:\n",
    "        decompressed = zlib.decompress(data)\n",
    "    except zlib.error:\n",
    "        return\n",
    "\n",
    "    if len(decompressed) < 2:\n",
    "        return\n",
    "\n",
    "    try:\n",
    "        if decompressed.decode() == \"FU\":\n",
    "            raise RuntimeError(\"Boom\")\n",
    "    except UnicodeDecodeError:\n",
    "        pass\n",
    "\n",
    "\n",
    "if __name__ == \"__main__\":\n",
    "    if len(sys.argv) > 1 and sys.argv[1] == \"--no_mutator\":\n",
    "        atheris.Setup(sys.argv, TestOneInput)\n",
    "    else:\n",
    "        atheris.Setup(sys.argv, TestOneInput, custom_mutator=CustomMutator)\n",
    "    atheris.Fuzz()\n"
   ]
  },
  {
   "cell_type": "code",
   "execution_count": null,
   "metadata": {
    "vscode": {
     "languageId": "shellscript"
    }
   },
   "outputs": [],
   "source": [
    "# 不使用自定义的mutator执行fuzz测试\n",
    "python3 ../example_fuzzers/custom_mutator_example.py --no_mutator"
   ]
  },
  {
   "cell_type": "code",
   "execution_count": null,
   "metadata": {
    "vscode": {
     "languageId": "shellscript"
    }
   },
   "outputs": [],
   "source": [
    "# CMD Feedback\n",
    "INFO: Using built-in libfuzzer\n",
    "WARNING: Failed to find function \"__sanitizer_acquire_crash_state\".\n",
    "WARNING: Failed to find function \"__sanitizer_print_stack_trace\".\n",
    "WARNING: Failed to find function \"__sanitizer_set_death_callback\".\n",
    "INFO: libFuzzer ignores flags that start with '--'\n",
    "INFO: Running with entropic power schedule (0xFF, 100).\n",
    "INFO: Seed: 2642083398\n",
    "INFO: -max_len is not provided; libFuzzer will not generate inputs larger than 4096 bytes\n",
    "INFO: A corpus is not provided, starting from an empty corpus\n",
    "#2      INITED cov: 2 ft: 2 corp: 1/1b exec/s: 0 rss: 40Mb\n",
    "#4194304        pulse  cov: 2 ft: 2 corp: 1/1b lim: 4096 exec/s: 1398101 rss: 40Mb\n",
    "#8388608        pulse  cov: 2 ft: 2 corp: 1/1b lim: 4096 exec/s: 1198372 rss: 40Mb\n",
    "#16777216       pulse  cov: 2 ft: 2 corp: 1/1b lim: 4096 exec/s: 1118481 rss: 40Mb\n",
    "#33554432       pulse  cov: 2 ft: 2 corp: 1/1b lim: 4096 exec/s: 1118481 rss: 40Mb"
   ]
  },
  {
   "cell_type": "code",
   "execution_count": null,
   "metadata": {
    "vscode": {
     "languageId": "shellscript"
    }
   },
   "outputs": [],
   "source": [
    "# 使用自定义的mutator执行fuzz测试，更快达到报错位置\n",
    "python3 ../example_fuzzers/custom_mutator_example.py"
   ]
  },
  {
   "cell_type": "code",
   "execution_count": null,
   "metadata": {
    "vscode": {
     "languageId": "shellscript"
    }
   },
   "outputs": [],
   "source": [
    "# CMD Feedback\n",
    "INFO: Using built-in libfuzzer\n",
    "WARNING: Failed to find function \"__sanitizer_acquire_crash_state\".\n",
    "WARNING: Failed to find function \"__sanitizer_print_stack_trace\".\n",
    "WARNING: Failed to find function \"__sanitizer_set_death_callback\".\n",
    "INFO: found LLVMFuzzerCustomMutator (0x7f3f448c2920). Disabling -len_control by default.\n",
    "INFO: Running with entropic power schedule (0xFF, 100).\n",
    "INFO: Seed: 4015017639\n",
    "INFO: -max_len is not provided; libFuzzer will not generate inputs larger than 4096 bytes\n",
    "INFO: A corpus is not provided, starting from an empty corpus\n",
    "#2      INITED cov: 2 ft: 2 corp: 1/1b exec/s: 0 rss: 41Mb\n",
    "#3      NEW    cov: 4 ft: 4 corp: 2/11b lim: 4096 exec/s: 0 rss: 41Mb L: 10/10 MS: 1 Custom-\n",
    "#4      NEW    cov: 5 ft: 5 corp: 3/20b lim: 4096 exec/s: 0 rss: 41Mb L: 9/10 MS: 2 EraseBytes-Custom-\n",
    "#6      NEW    cov: 6 ft: 6 corp: 4/30b lim: 4096 exec/s: 0 rss: 41Mb L: 10/10 MS: 3 Custom-ChangeBinInt-Custom-\n",
    "\n",
    " === Uncaught Python exception: ===\n",
    "RuntimeError: Boom\n",
    "Traceback (most recent call last):\n",
    "  File \"/home/atheris/learn/../example_fuzzers/custom_mutator_example.py\", line 62, in TestOneInput\n",
    "    raise RuntimeError('Boom')\n",
    "RuntimeError: Boom\n",
    "\n",
    "==18== ERROR: libFuzzer: fuzz target exited\n",
    "SUMMARY: libFuzzer: fuzz target exited\n",
    "MS: 8 ShuffleBytes-Custom-ChangeBit-Custom-CopyPart-Custom-CMP-Custom- DE: \"FU\"-; base unit: 257aeb4480115fd941e6bdf0fe312c707e7c1265\n",
    "0x78,0x9c,0x73,0xb,0x5,0x0,0x0,0xe3,0x0,0x9c,\n",
    "x\\234s\\013\\005\\000\\000\\343\\000\\234\n",
    "artifact_prefix='./'; Test unit written to ./crash-74c6edf3c13bff4e28eee233181ef6107700f0d9\n",
    "Base64: eJxzCwUAAOMAnA=="
   ]
  },
  {
   "cell_type": "code",
   "execution_count": null,
   "metadata": {
    "vscode": {
     "languageId": "shellscript"
    }
   },
   "outputs": [],
   "source": [
    "以十六进制和ASCII码的形式显示crash文件内容\n",
    "hexdump -C crash-74c6edf3c13bff4e28eee233181ef6107700f0d9"
   ]
  },
  {
   "cell_type": "markdown",
   "metadata": {},
   "source": [
    "### CustomCrossOver\n",
    "\n",
    "还支持自定义交叉函数，如将两个数据进行拼接。可以通过`atheris.Setup`传入。\n",
    "\n",
    "See its usage in [custom_crossover_fuzz_test.py](../src/custom_crossover_fuzz_test.py)."
   ]
  }
 ],
 "metadata": {
  "kernelspec": {
   "display_name": "WIP_DL_Fuzzing",
   "language": "python",
   "name": "python3"
  },
  "language_info": {
   "codemirror_mode": {
    "name": "ipython",
    "version": 3
   },
   "file_extension": ".py",
   "mimetype": "text/x-python",
   "name": "python",
   "nbconvert_exporter": "python",
   "pygments_lexer": "ipython3",
   "version": "3.11.11"
  }
 },
 "nbformat": 4,
 "nbformat_minor": 2
}
