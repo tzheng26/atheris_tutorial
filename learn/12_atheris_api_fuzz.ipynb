{
 "cells": [
  {
   "cell_type": "markdown",
   "metadata": {},
   "source": [
    "# Atheris API\n",
    "\n",
    "\n",
    "#### `Fuzz()`\n",
    "\n",
    "This starts the fuzzer. You must have called `Setup()` before calling this function. This function does not return.\n",
    "\n",
    "In many cases `Setup()` and `Fuzz()` could be combined into a single function, but they are\n",
    "separated because you may want the fuzzer to consume the command-line arguments it handles\n",
    "before passing any remaining arguments to another setup function."
   ]
  }
 ],
 "metadata": {
  "language_info": {
   "name": "python"
  }
 },
 "nbformat": 4,
 "nbformat_minor": 2
}
