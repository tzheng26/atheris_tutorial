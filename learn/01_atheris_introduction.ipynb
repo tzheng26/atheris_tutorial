{
 "cells": [
  {
   "cell_type": "markdown",
   "metadata": {},
   "source": [
    "# Atheris Introduction\n",
    "\n",
    "https://github.com/google/atheris"
   ]
  },
  {
   "cell_type": "markdown",
   "metadata": {
    "vscode": {
     "languageId": "plaintext"
    }
   },
   "source": [
    "Atheris is a coverage-guided Python fuzzing engine. \n",
    "\n",
    "It supports fuzzing of **Python** code, but also native extensions written for **CPython**. \n",
    "\n",
    "Atheris is based off of **libFuzzer**. \n",
    "\n",
    "When fuzzing native code, Atheris can be used in combination with Address Sanitizer or Undefined Behavior Sanitizer to catch extra bugs."
   ]
  }
 ],
 "metadata": {
  "language_info": {
   "name": "python"
  }
 },
 "nbformat": 4,
 "nbformat_minor": 2
}
