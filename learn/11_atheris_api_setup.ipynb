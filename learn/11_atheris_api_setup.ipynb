{
 "cells": [
  {
   "cell_type": "markdown",
   "metadata": {},
   "source": [
    "# Atheris API\n",
    "\n",
    "#### `Setup(args, test_one_input, internal_libfuzzer=None)`\n",
    "\n",
    " - `args`: A list of strings: the process arguments to pass to the fuzzer, typically `sys.argv`. \n",
    "  \n",
    "    This argument list may be modified in-place, to remove arguments consumed by the fuzzer.\n",
    "\n",
    "    See [the LibFuzzer docs](https://llvm.org/docs/LibFuzzer.html#options) for a list of such options.\n",
    "    \n",
    "    通常通过命令行参数传入，定义了fuzzing engine的行为。\n",
    "\n",
    " - `test_one_input`: your fuzzer's entry point. \n",
    "    \n",
    "    Must take a single `bytes` argument. This will be repeatedly invoked with a single bytes container.\n",
    "\n",
    " - `internal_libfuzzer`: Indicates whether libfuzzer will be provided by atheris or by an external library (see [native_extension_fuzzing.md](./native_extension_fuzzing.md)). \n",
    "  \n",
    "    If unspecified, Atheris will determine this\n",
    "    automatically. If fuzzing pure Python, leave this as `True`."
   ]
  },
  {
   "cell_type": "code",
   "execution_count": null,
   "metadata": {},
   "outputs": [],
   "source": [
    "import atheris\n",
    "import zlib\n",
    "import sys\n",
    "\n",
    "\n",
    "@atheris.instrument_func\n",
    "def TestOneInput(data):\n",
    "  try:\n",
    "    decompressed = zlib.decompress(data)\n",
    "  except zlib.error:\n",
    "    return\n",
    "\n",
    "  if len(decompressed) < 2:\n",
    "    return\n",
    "\n",
    "  try:\n",
    "    if decompressed.decode() == 'FU':\n",
    "      raise RuntimeError('Boom')\n",
    "  except UnicodeDecodeError:\n",
    "    pass\n",
    "  \n",
    "def main():\n",
    "  atheris.Setup(sys.argv, TestOneInput)\n",
    "  atheris.Fuzz()\n",
    "\n",
    "if __name__ == '__main__':\n",
    "    main()"
   ]
  }
 ],
 "metadata": {
  "kernelspec": {
   "display_name": "WIP_DL_Fuzzing",
   "language": "python",
   "name": "python3"
  },
  "language_info": {
   "name": "python",
   "version": "3.11.11"
  }
 },
 "nbformat": 4,
 "nbformat_minor": 2
}
