{
 "cells": [
  {
   "cell_type": "markdown",
   "metadata": {},
   "source": [
    "# Atheris Installation"
   ]
  },
  {
   "cell_type": "markdown",
   "metadata": {},
   "source": [
    "Atheris supports Linux (32- and 64-bit) and Mac OS X, Python versions 3.6-3.11."
   ]
  },
  {
   "cell_type": "markdown",
   "metadata": {},
   "source": [
    "## Choice 1: Install Prebuilt Version"
   ]
  },
  {
   "cell_type": "code",
   "execution_count": null,
   "metadata": {
    "vscode": {
     "languageId": "shellscript"
    }
   },
   "outputs": [],
   "source": [
    "!pip3 install atheris"
   ]
  },
  {
   "cell_type": "markdown",
   "metadata": {
    "vscode": {
     "languageId": "shellscript"
    }
   },
   "source": [
    "These wheels come with a built-in libFuzzer, which is fine for fuzzing Python code. \n",
    "\n",
    "If you plan to fuzz native extensions, you may need to **build from source** to ensure the libFuzzer version in Atheris matches your Clang version."
   ]
  },
  {
   "cell_type": "markdown",
   "metadata": {},
   "source": [
    "## Choice 2: Build from Source\n",
    "\n",
    "If you have a sufficiently new version of clang on your path, installation from source is as simple as:"
   ]
  },
  {
   "cell_type": "code",
   "execution_count": null,
   "metadata": {
    "vscode": {
     "languageId": "shellscript"
    }
   },
   "outputs": [],
   "source": [
    "# Build latest release from source\n",
    "pip3 install --no-binary atheris atheris\n",
    "# Build development code from source\n",
    "git clone https://github.com/google/atheris.git\n",
    "cd atheris\n",
    "pip3 install ."
   ]
  },
  {
   "cell_type": "markdown",
   "metadata": {},
   "source": [
    "If you don't have clang installed or it's too old, you'll need to download and build the latest version of LLVM. \n",
    "\n",
    "Follow the instructions in Installing Against New LLVM below."
   ]
  },
  {
   "cell_type": "code",
   "execution_count": null,
   "metadata": {
    "vscode": {
     "languageId": "shellscript"
    }
   },
   "outputs": [],
   "source": [
    "# Building LLVM\n",
    "git clone https://github.com/llvm/llvm-project.git\n",
    "cd llvm-project\n",
    "mkdir build\n",
    "cd build\n",
    "cmake -DLLVM_ENABLE_PROJECTS='clang;compiler-rt' -G \"Unix Makefiles\" ../llvm\n",
    "make -j 10  # This step is very slow\n",
    "\n",
    "# Installing Atheris\n",
    "CLANG_BIN=\"$(pwd)/bin/clang\" pip3 install <whatever>"
   ]
  }
 ],
 "metadata": {
  "language_info": {
   "name": "python"
  }
 },
 "nbformat": 4,
 "nbformat_minor": 2
}
