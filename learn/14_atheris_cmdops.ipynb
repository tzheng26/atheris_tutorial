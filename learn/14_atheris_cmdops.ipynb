{
 "cells": [
  {
   "cell_type": "markdown",
   "metadata": {},
   "source": [
    "# Atheris Command Line Options\n",
    "\n",
    "## Run with coverage.py\n",
    "\n",
    "see [05_atheris_code_coverage.ipynb](./05_atheris_code_coverage.ipynb)\n"
   ]
  },
  {
   "cell_type": "markdown",
   "metadata": {},
   "source": [
    "\n",
    "## Basic Usage"
   ]
  },
  {
   "cell_type": "code",
   "execution_count": 17,
   "metadata": {
    "vscode": {
     "languageId": "shellscript"
    }
   },
   "outputs": [
    {
     "name": "stdout",
     "output_type": "stream",
     "text": [
      "/home/user/lectures/atheris/learn\n"
     ]
    },
    {
     "name": "stdout",
     "output_type": "stream",
     "text": [
      "INFO: Using built-in libfuzzer\n",
      "WARNING: Failed to find function \"__sanitizer_acquire_crash_state\".\n",
      "WARNING: Failed to find function \"__sanitizer_print_stack_trace\".\n",
      "WARNING: Failed to find function \"__sanitizer_set_death_callback\".\n",
      "INFO: Running with entropic power schedule (0xFF, 100).\n",
      "INFO: Seed: 1475448587\n",
      "INFO: A corpus is not provided, starting from an empty corpus\n",
      "#2\tINITED cov: 2 ft: 2 corp: 1/1b exec/s: 0 rss: 65Mb\n",
      "#20\tNEW    cov: 4 ft: 4 corp: 2/5b lim: 4 exec/s: 0 rss: 65Mb L: 4/4 MS: 3 InsertByte-CrossOver-InsertByte-\n",
      "#2097152\tpulse  cov: 4 ft: 4 corp: 2/5b lim: 100 exec/s: 1048576 rss: 65Mb\n",
      "#4194304\tpulse  cov: 4 ft: 4 corp: 2/5b lim: 100 exec/s: 1048576 rss: 65Mb\n",
      "#8388608\tpulse  cov: 4 ft: 4 corp: 2/5b lim: 100 exec/s: 1048576 rss: 65Mb\n",
      "Done 10000000 in 10 second(s)\n"
     ]
    }
   ],
   "source": [
    "!pwd\n",
    "!python demo.py -atheris_runs=10000000 -max_len=100"
   ]
  },
  {
   "cell_type": "markdown",
   "metadata": {},
   "source": [
    "#### 参数：\n",
    "\n",
    "- -atheris_runs: 运行的次数\n",
    "- -max_len: 输入字节的最大长度\n",
    "- -max_total_time: 最大运行时间（秒）\n",
    "\n",
    "\n",
    "#### 运行结果解析：\n",
    "\n",
    "**INFO: Using built-in libfuzzer**\n",
    "- **含义**：表示正在使用内置的 libFuzzer。\n",
    "\n",
    "\n",
    "**WARNING: Failed to find function \"__sanitizer_acquire_crash_state\".**\n",
    "- **含义**：这些警告表示未找到某些函数，但这通常不会影响模糊测试的运行。这些函数通常与地址消毒器（AddressSanitizer）相关，用于在崩溃时获取更多调试信息。\n",
    "\n",
    "\n",
    "**INFO: Running with entropic power schedule (0xFF, 100).**\n",
    "- **含义**：表示正在使用熵调度策略（entropic power schedule），这是 libFuzzer 的一种输入选择策略，用于更有效地探索输入空间。\n",
    "\n",
    "\n",
    "**INFO: Seed: 1475448587**\n",
    "- **含义**：表示使用的随机种子。这个种子用于初始化随机数生成器，以确保模糊测试的可重复性。\n",
    "\n",
    "\n",
    "**INFO: A corpus is not provided, starting from an empty corpus**\n",
    "- **含义**：表示没有提供初始语料库，模糊测试从空语料库开始。这意味着模糊测试将从头开始生成输入数据。\n",
    "\n",
    "\n",
    "**#2 INITED cov: 2 ft: 2 corp: 1/1b exec/s: 0 rss: 65Mb**\n",
    "- **#2**：表示这是第 2 次执行。\n",
    "- **INITED**：表示初始化完成。\n",
    "- **cov: 2**：表示覆盖率为 2。\n",
    "- **ft: 2**：表示特征数为 2。\n",
    "- **corp: 1/1b**：表示语料库包含 1 个输入，总大小为 1 字节。\n",
    "- **exec/s: 0**：表示每秒执行次数为 0（初始化阶段）。\n",
    "- **rss: 65Mb**：表示驻留集大小（内存使用量）为 65MB。\n",
    "\n",
    "**#20 NEW cov: 4 ft: 4 corp: 2/5b lim: 4 exec/s: 0 rss: 65Mb L: 4/4 MS: 3 InsertByte-CrossOver-InsertByte-**\n",
    "- **#20**：表示这是第 20 次执行。\n",
    "- **NEW**：表示发现了新的覆盖率。\n",
    "- **cov: 4**：表示覆盖率增加到 4。\n",
    "- **ft: 4**：表示特征数增加到 4。\n",
    "- **corp: 2/5b**：表示语料库包含 2 个输入，总大小为 5 字节。\n",
    "- **lim: 4**：表示当前输入长度限制为 4 字节。\n",
    "- **exec/s: 0**：表示每秒执行次数为 0。\n",
    "- **rss: 65Mb**：表示驻留集大小为 65MB。\n",
    "- **L: 4/4**：表示输入长度为 4 字节。\n",
    "- **MS: 3 InsertByte-CrossOver-InsertByte-**：表示使用了 3 种变异策略：插入字节、交叉变异、插入字节。\n",
    "\n",
    "**#2097152 pulse cov: 4 ft: 4 corp: 2/5b lim: 100 exec/s: 1048576 rss: 65Mb**\n",
    "- **#2097152**：表示这是第 2,097,152 次执行。\n",
    "- **pulse**：表示这是一个周期性输出，用于显示当前状态。\n",
    "- **cov: 4**：表示覆盖率为 4。\n",
    "- **ft: 4**：表示特征数为 4。\n",
    "- **corp: 2/5b**：表示语料库包含 2 个输入，总大小为 5 字节。\n",
    "- **lim: 100**：表示当前输入长度限制为 100 字节。\n",
    "- **exec/s: 1048576**：表示每秒执行次数为 1,048,576。\n",
    "- **rss: 65Mb**：表示驻留集大小为 65MB。\n",
    "\n",
    "**Done 10000000 in 10 second(s)**\n",
    "- **含义**：表示模糊测试在 10 秒内完成了 10,000,000 次执行。"
   ]
  }
 ],
 "metadata": {
  "kernelspec": {
   "display_name": "WIP_DL_Fuzzing",
   "language": "python",
   "name": "python3"
  },
  "language_info": {
   "codemirror_mode": {
    "name": "ipython",
    "version": 3
   },
   "file_extension": ".py",
   "mimetype": "text/x-python",
   "name": "python",
   "nbconvert_exporter": "python",
   "pygments_lexer": "ipython3",
   "version": "3.11.11"
  }
 },
 "nbformat": 4,
 "nbformat_minor": 2
}
