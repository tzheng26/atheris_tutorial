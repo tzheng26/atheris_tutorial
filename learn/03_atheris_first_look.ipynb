{
 "cells": [
  {
   "cell_type": "markdown",
   "metadata": {},
   "source": [
    "# Atheris First Look"
   ]
  },
  {
   "cell_type": "markdown",
   "metadata": {},
   "source": [
    "When fuzzing Python, Atheris will report a failure if the Python code under test throws an uncaught exception."
   ]
  },
  {
   "cell_type": "code",
   "execution_count": null,
   "metadata": {},
   "outputs": [],
   "source": [
    "#!/usr/bin/python3\n",
    "# Just demonstration\n",
    "\n",
    "import atheris\n",
    "\n",
    "with atheris.instrument_imports():\n",
    "  import some_library\n",
    "  import sys\n",
    "\n",
    "def TestOneInput(data):\n",
    "  some_library.parse(data)\n",
    "\n",
    "atheris.Setup(sys.argv, TestOneInput)\n",
    "atheris.Fuzz()"
   ]
  }
 ],
 "metadata": {
  "kernelspec": {
   "display_name": "WIP_DL_Fuzzing",
   "language": "python",
   "name": "python3"
  },
  "language_info": {
   "name": "python",
   "version": "3.11.11"
  }
 },
 "nbformat": 4,
 "nbformat_minor": 2
}
