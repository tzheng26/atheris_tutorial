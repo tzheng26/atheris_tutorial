{
 "cells": [
  {
   "cell_type": "markdown",
   "metadata": {},
   "source": [
    "# Atheris API\n",
    "\n",
    "\n",
    "#### `FuzzedDataProvider`\n",
    "\n",
    "将`TestOneInput(input_bytes: bytes)`函数的输入转换为其他输入形式。\n",
    "\n",
    "\n",
    "Often, a `bytes` object is not convenient input to your code being fuzzed. Similar to libFuzzer, we provide a FuzzedDataProvider to translate these bytes into other input forms.\n"
   ]
  },
  {
   "cell_type": "markdown",
   "metadata": {},
   "source": [
    "\n",
    "You can construct the `FuzzedDataProvider` with:\n",
    "\n",
    "```python\n",
    "fdp = atheris.FuzzedDataProvider(input_bytes)\n",
    "```\n"
   ]
  },
  {
   "cell_type": "markdown",
   "metadata": {},
   "source": [
    "\n",
    "The FuzzedDataProvider then supports the following functions:\n"
   ]
  },
  {
   "cell_type": "markdown",
   "metadata": {},
   "source": [
    "#### 生成字节\n",
    "\n",
    "```python\n",
    "def ConsumeBytes(count: int)\n",
    "```\n",
    "\n",
    "- 生成`count`个字节。\n",
    "- Consume `count` bytes."
   ]
  },
  {
   "cell_type": "markdown",
   "metadata": {},
   "source": [
    "#### 生成unicode字符串\n",
    "\n",
    "\n",
    "```python\n",
    "def ConsumeUnicode(count: int)\n",
    "```\n",
    "\n",
    "- 生成`count`个unicode字符。\n",
    "- 可能包含代理对字符。\n",
    "  - 代理对字符用于表示 Unicode 中的补充字符，这些字符包括许多历史文字、表情符号、音乐符号等。由于这些字符超出了基本多文种平面的范围，因此需要使用代理对字符来表示。\n",
    "- Consume unicode characters. Might contain surrogate pair characters, which according to the specification are invalid in this situation. However, many core software tools (e.g. Windows file paths) support them, so other software often needs to too.\n",
    "\n",
    "\n",
    "```python\n",
    "def ConsumeUnicodeNoSurrogates(count: int)\n",
    "```\n",
    "- 生成`count`个unicode字符，不包含代理对字符。\n",
    "- Consume unicode characters, but never generate surrogate pair characters.\n",
    "\n",
    "\n",
    "```python\n",
    "def ConsumeString(count: int)\n",
    "```\n",
    "- 别名\n",
    "- Alias for `ConsumeBytes` in Python 2, or `ConsumeUnicode` in Python 3.\n"
   ]
  },
  {
   "cell_type": "markdown",
   "metadata": {},
   "source": [
    "#### 生成整数\n",
    "\n",
    "```python\n",
    "def ConsumeInt(int: bytes)\n",
    "```\n",
    "- 生成指定字节大小的有符号整数。\n",
    "- Consume a signed integer of the specified size (when written in two's complement notation).\n",
    "\n",
    "```python\n",
    "def ConsumeUInt(int: bytes)\n",
    "```\n",
    "- 生成指定字节长度的无符号整数。\n",
    "- Consume an unsigned integer of the specified size.\n",
    "\n",
    "```python\n",
    "def ConsumeIntInRange(min: int, max: int)\n",
    "```\n",
    "- 生成一个在`[min, max]`范围内的整数。\n",
    "- Consume an integer in the range [`min`, `max`].\n",
    "\n",
    "```python\n",
    "def ConsumeIntList(count: int, bytes: int)\n",
    "```\n",
    "- 生成`count`个指定字节大小的整数。\n",
    "- Consume a list of `count` integers of `size` bytes.\n",
    "\n",
    "```python\n",
    "def ConsumeIntListInRange(count: int, min: int, max: int)\n",
    "```\n",
    "- 生成`count`个在`[min, max]`范围内的整数。\n",
    "- Consume a list of `count` integers in the range [`min`, `max`].\n"
   ]
  },
  {
   "cell_type": "markdown",
   "metadata": {},
   "source": [
    "#### 生成浮点数\n",
    "\n",
    "```python\n",
    "def ConsumeFloat()\n",
    "```\n",
    "- 生成浮点数，包括`NaN`和`Inf`等。但基本生成的都是极限值，不是常规范围的值。\n",
    "- Consume an arbitrary floating-point value. Might produce weird values like `NaN` and `Inf`.\n",
    "\n",
    "```python\n",
    "def ConsumeRegularFloat()\n",
    "```\n",
    "- 生成浮点数，不包括`NaN`和`Inf`等。但基本生成的都是极限值，不是常规范围的值。\n",
    "- Consume an arbitrary numeric floating-point value; never produces a special type like `NaN` or `Inf`.\n",
    "\n",
    "```python\n",
    "def ConsumeProbability()\n",
    "```\n",
    "- 生成0-1之间的浮点数。\n",
    "- Consume a floating-point value in the range [0, 1].\n",
    "\n",
    "```python\n",
    "def ConsumeFloatInRange(min: float, max: float)\n",
    "```\n",
    "- 生成`[min, max]`范围内的浮点数。\n",
    "- Consume a floating-point value in the range [`min`, `max`].\n",
    "\n",
    "```python\n",
    "def ConsumeFloatList(count: int)\n",
    "```\n",
    "- 生成包含`count`个浮点数的列表，值一般为极限值，包含`NaN`和`Inf`等。\n",
    "- Consume a list of `count` arbitrary floating-point values. Might produce weird values like `NaN` and `Inf`.\n",
    "\n",
    "```python\n",
    "def ConsumeRegularFloatList(count: int)\n",
    "```\n",
    "- 生成包含`count`个浮点数的列表，值一般为极限值，包含`NaN`和`Inf`等。\n",
    "- Consume a list of `count` arbitrary numeric floating-point values; never produces special types like `NaN` or `Inf`.\n",
    "\n",
    "```python\n",
    "def ConsumeProbabilityList(count: int)\n",
    "```\n",
    "- 生成包含`count`个0-1之间的浮点数的列表。\n",
    "- Consume a list of `count` floats in the range [0, 1].\n",
    "\n",
    "```python\n",
    "def ConsumeFloatListInRange(count: int, min: float, max: float)\n",
    "```\n",
    "- 生成包含`count`个在`[min, max]`范围内的浮点数的列表。\n",
    "- Consume a list of `count` floats in the range [`min`, `max`]\n"
   ]
  },
  {
   "cell_type": "markdown",
   "metadata": {},
   "source": [
    "\n",
    "#### 从列表中随机取值\n",
    "```python\n",
    "def PickValueInList(l: list)\n",
    "```\n",
    "\n",
    "Given a list, pick a random value\n"
   ]
  },
  {
   "cell_type": "markdown",
   "metadata": {},
   "source": [
    "\n",
    "#### 生成布尔值\n",
    "```python\n",
    "def ConsumeBool()\n",
    "```\n",
    "\n",
    "Consume either `True` or `False`.\n"
   ]
  }
 ],
 "metadata": {
  "language_info": {
   "name": "python"
  }
 },
 "nbformat": 4,
 "nbformat_minor": 2
}
