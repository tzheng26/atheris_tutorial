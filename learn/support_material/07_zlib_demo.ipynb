{
 "cells": [
  {
   "cell_type": "markdown",
   "metadata": {},
   "source": [
    "# zlib\n",
    "\n",
    "是一个用于数据压缩的标准库。它提供了对 gzip 和其他压缩格式的支持\n",
    "\n",
    "数据压缩是指通过使用特定的算法减少数据的冗余和重复，从而减少数据的存储空间或传输时间的过程。压缩后的数据可以在需要时通过解压缩恢复到原始状态。常见的数据压缩算法包括 zlib、gzip、bzip2 等。数据压缩分为无损压缩和有损压缩两种：\n",
    "\n",
    "无损压缩：压缩后数据可以完全恢复到原始状态，没有任何信息丢失。适用于文本文件、可执行文件等需要精确恢复的数据。\n",
    "有损压缩：压缩后数据不能完全恢复到原始状态，会有部分信息丢失，但通常人类无法察觉。适用于图像、音频、视频等多媒体文件。"
   ]
  },
  {
   "cell_type": "code",
   "execution_count": 3,
   "metadata": {},
   "outputs": [
    {
     "name": "stdout",
     "output_type": "stream",
     "text": [
      "Original Data (hex): b'48656c6c6f2c20576f726c64212048656c6c6f2c20576f726c64212048656c6c6f2c20576f726c6421'\n",
      "Hex Data: 48656c6c6f2c20576f726c64212048656c6c6f2c20576f726c64212048656c6c6f2c20576f726c6421\n",
      "Compressed Data: b'x\\x9c\\xf3H\\xcd\\xc9\\xc9\\xd7Q\\x08\\xcf/\\xcaIQT\\xf0\\xc0\\xcd\\x03\\x00\\x1de\\r|'\n",
      "Decompressed Data: Hello, World! Hello, World! Hello, World!\n"
     ]
    }
   ],
   "source": [
    "import zlib\n",
    "\n",
    "# 原始数据\n",
    "data = b\"Hello, World! Hello, World! Hello, World!\"\n",
    "\n",
    "# 十六进制数据\n",
    "hex_data = data.hex()\n",
    "print(f\"Hex Data: {hex_data}\")\n",
    "\n",
    "# 压缩数据\n",
    "compressed_data = zlib.compress(data)\n",
    "print(f\"Compressed Data: {compressed_data}\")\n",
    "\n",
    "# 解压缩数据\n",
    "decompressed_data = zlib.decompress(compressed_data)\n",
    "print(f\"Decompressed Data: {decompressed_data.decode('utf-8')}\")"
   ]
  },
  {
   "cell_type": "code",
   "execution_count": 4,
   "metadata": {},
   "outputs": [
    {
     "name": "stdout",
     "output_type": "stream",
     "text": [
      "Error: Error -3 while decompressing data: incorrect header check\n"
     ]
    }
   ],
   "source": [
    "data = b\"Hello, World! Hello, World! Hello, World!\"\n",
    "try:\n",
    "    decompressed_data = zlib.decompress(data)\n",
    "except zlib.error as e:\n",
    "    print(f\"Error: {e}\")"
   ]
  }
 ],
 "metadata": {
  "kernelspec": {
   "display_name": "WIP_DL_Fuzzing",
   "language": "python",
   "name": "python3"
  },
  "language_info": {
   "codemirror_mode": {
    "name": "ipython",
    "version": 3
   },
   "file_extension": ".py",
   "mimetype": "text/x-python",
   "name": "python",
   "nbconvert_exporter": "python",
   "pygments_lexer": "ipython3",
   "version": "3.11.11"
  }
 },
 "nbformat": 4,
 "nbformat_minor": 2
}
