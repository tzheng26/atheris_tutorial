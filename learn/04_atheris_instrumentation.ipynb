{
 "cells": [
  {
   "cell_type": "markdown",
   "metadata": {},
   "source": [
    "# Atheris Instrumentation"
   ]
  },
  {
   "cell_type": "markdown",
   "metadata": {},
   "source": [
    "Atheris collects Python coverage information by instrumenting bytecode. \n",
    "\n",
    "There are 3 options for adding this instrumentation to the bytecode:"
   ]
  },
  {
   "cell_type": "markdown",
   "metadata": {},
   "source": [
    "**1. Instrument the libraries you import**"
   ]
  },
  {
   "cell_type": "code",
   "execution_count": null,
   "metadata": {},
   "outputs": [],
   "source": [
    "with atheris.instrument_imports():\n",
    "  import foo\n",
    "  from bar import baz"
   ]
  },
  {
   "cell_type": "markdown",
   "metadata": {},
   "source": [
    "**2. Instrument individual functions**"
   ]
  },
  {
   "cell_type": "code",
   "execution_count": null,
   "metadata": {},
   "outputs": [],
   "source": [
    "@atheris.instrument_func\n",
    "def my_function(foo, bar):\n",
    "  print(\"instrumented\")"
   ]
  },
  {
   "cell_type": "markdown",
   "metadata": {},
   "source": [
    "**3. Instrument everything**"
   ]
  },
  {
   "cell_type": "code",
   "execution_count": null,
   "metadata": {},
   "outputs": [],
   "source": [
    "atheris.instrument_all()\n",
    "\n",
    "# Put this right before atheris.Setup(). \n",
    "# This will find every Python function currently loaded in the interpreter, and instrument it. \n",
    "# This might take a while."
   ]
  }
 ],
 "metadata": {
  "kernelspec": {
   "display_name": "WIP_DL_Fuzzing",
   "language": "python",
   "name": "python3"
  },
  "language_info": {
   "name": "python",
   "version": "3.11.11"
  }
 },
 "nbformat": 4,
 "nbformat_minor": 2
}
