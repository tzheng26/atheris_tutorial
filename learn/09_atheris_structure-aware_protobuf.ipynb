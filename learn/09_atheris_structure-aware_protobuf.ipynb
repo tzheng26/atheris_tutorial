{
 "cells": [
  {
   "cell_type": "markdown",
   "metadata": {},
   "source": [
    "# Atheris: Structure-aware Fuzzing with Protocol Buffers\n"
   ]
  },
  {
   "cell_type": "markdown",
   "metadata": {},
   "source": [
    "[libprotobuf-mutator](https://github.com/google/libprotobuf-mutator) has\n",
    "bindings to use it together with Atheris to perform structure-aware fuzzing\n",
    "using protocol buffers.\n",
    "\n",
    "See the documentation for\n",
    "[atheris_libprotobuf_mutator](contrib/libprotobuf_mutator/README.md)."
   ]
  }
 ],
 "metadata": {
  "language_info": {
   "name": "python"
  }
 },
 "nbformat": 4,
 "nbformat_minor": 2
}
