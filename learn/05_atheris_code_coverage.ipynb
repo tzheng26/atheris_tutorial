{
 "cells": [
  {
   "cell_type": "markdown",
   "metadata": {},
   "source": [
    "# Atheris Code Coverage"
   ]
  },
  {
   "cell_type": "markdown",
   "metadata": {},
   "source": [
    "Atheris is compatible with coverage.py: \n",
    "\n",
    "you can run your fuzzer using the coverage.py module as you would for any other Python program. "
   ]
  },
  {
   "cell_type": "code",
   "execution_count": null,
   "metadata": {
    "vscode": {
     "languageId": "shellscript"
    }
   },
   "outputs": [],
   "source": [
    "!pip3 install coverage"
   ]
  },
  {
   "cell_type": "markdown",
   "metadata": {},
   "source": [
    "### Example 1"
   ]
  },
  {
   "cell_type": "code",
   "execution_count": null,
   "metadata": {
    "vscode": {
     "languageId": "shellscript"
    }
   },
   "outputs": [],
   "source": [
    "python3 -m coverage run your_fuzzer.py -atheris_runs=10000  # Times to run\n",
    "python3 -m coverage html\n",
    "(cd htmlcov && python3 -m http.server 8000) # View the coverage report in your browser"
   ]
  },
  {
   "cell_type": "markdown",
   "metadata": {},
   "source": [
    "Coverage reports are only generated when your fuzzer exits gracefully. This happens if:\n",
    "\n",
    "- you specify `-atheris_runs=<number>`, and that many runs have elapsed.\n",
    "- your fuzzer exits by Python exception.\n",
    "- your fuzzer exits by `sys.exit()`.\n",
    "\n",
    "No coverage report will be generated if your fuzzer exits due to a crash in native code, or due to libFuzzer's `-runs` flag (use `-atheris_runs`). \n",
    "\n",
    "If your fuzzer exits via other methods, such as `SIGINT (Ctrl+C)`, Atheris will attempt to generate a report but may be unable to (depending on your code). \n",
    "\n",
    "For consistent reports, we recommend always using `-atheris_runs=<number>`."
   ]
  },
  {
   "cell_type": "markdown",
   "metadata": {},
   "source": [
    "### Example 2\n",
    "\n",
    "If you'd like to examine coverage when running with your corpus, you can do that with the following command:"
   ]
  },
  {
   "cell_type": "code",
   "execution_count": null,
   "metadata": {
    "vscode": {
     "languageId": "shellscript"
    }
   },
   "outputs": [],
   "source": [
    "python3 -m coverage run your_fuzzer.py corpus_dir/* -atheris_runs=$(( 1 + $(ls corpus_dir | wc -l) ))"
   ]
  },
  {
   "cell_type": "markdown",
   "metadata": {},
   "source": [
    "This will cause Atheris to run on each file in `<corpus-dir>`, then exit. \n",
    "\n",
    "Note: atheris use empty data set as the first input even if there is no empty file in `<corpus_dir>`. \n",
    "\n",
    "Importantly, if you leave off the `-atheris_runs=$(ls corpus_dir | wc -l)`, no coverage report will be generated."
   ]
  },
  {
   "cell_type": "markdown",
   "metadata": {},
   "source": [
    "**Note: Using coverage.py will significantly slow down your fuzzer, so only use it for visualizing coverage; don't use it all the time.**"
   ]
  }
 ],
 "metadata": {
  "language_info": {
   "name": "python"
  }
 },
 "nbformat": 4,
 "nbformat_minor": 2
}
