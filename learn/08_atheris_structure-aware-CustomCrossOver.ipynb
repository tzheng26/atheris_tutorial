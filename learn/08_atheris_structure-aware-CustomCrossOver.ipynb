{
 "cells": [
  {
   "cell_type": "markdown",
   "metadata": {},
   "source": [
    "# Atheris: Structure-aware fuzzing--CustomCrossOver"
   ]
  },
  {
   "cell_type": "markdown",
   "metadata": {},
   "source": [
    "### 自定义mutator -> CustomCrossOver\n",
    "\n",
    "\n",
    "还支持自定义交叉函数，如将两个数据进行拼接。可以通过`atheris.Setup`传入。\n",
    "\n",
    "See its usage in [custom_crossover_fuzz_test.py](../src/custom_crossover_fuzz_test.py)."
   ]
  },
  {
   "cell_type": "code",
   "execution_count": null,
   "metadata": {},
   "outputs": [],
   "source": [
    "# atheris/src/custom_crossover_fuzz_test.py\n",
    "\n",
    "# Copyright 2021 Google LLC\n",
    "#\n",
    "# Licensed under the Apache License, Version 2.0 (the \"License\");\n",
    "# you may not use this file except in compliance with the License.\n",
    "# You may obtain a copy of the License at\n",
    "#\n",
    "#      http://www.apache.org/licenses/LICENSE-2.0\n",
    "#\n",
    "# Unless required by applicable law or agreed to in writing, software\n",
    "# distributed under the License is distributed on an \"AS IS\" BASIS,\n",
    "# WITHOUT WARRANTIES OR CONDITIONS OF ANY KIND, either express or implied.\n",
    "# See the License for the specific language governing permissions and\n",
    "# limitations under the License.\n",
    "\n",
    "import os\n",
    "import sys\n",
    "import unittest\n",
    "import zlib\n",
    "\n",
    "import atheris\n",
    "\n",
    "import fuzz_test_lib  # pytype: disable=import-error\n",
    "\n",
    "\n",
    "def concatenate_crossover(data1, data2, max_size, seed):\n",
    "  res = data1 + b\"|\" + data2\n",
    "  if max_size < len(res):\n",
    "    return data1\n",
    "  return res\n",
    "\n",
    "\n",
    "def noop_crossover(data1, data2, max_size, seed):\n",
    "  print(\"Hello from crossover\")\n",
    "  return data1\n",
    "\n",
    "\n",
    "@atheris.instrument_func\n",
    "def bytes_comparison(data):\n",
    "  if data == b\"a|b|c|d|e\":\n",
    "    raise RuntimeError(\"Was a|b|c|d|e\")\n",
    "\n",
    "\n",
    "class CustomCrossoverTests(unittest.TestCase):\n",
    "\n",
    "  def testBytesComparison(self):\n",
    "    fuzz_test_lib.run_fuzztest(\n",
    "        bytes_comparison,\n",
    "        setup_kwargs={\n",
    "            \"custom_crossover\": concatenate_crossover\n",
    "        },\n",
    "        expected_output=b\"Was a|b|c|d|e\",\n",
    "        timeout=30)\n",
    "\n",
    "  def testNoOpCrossover(self):\n",
    "    fuzz_test_lib.run_fuzztest(\n",
    "        bytes_comparison,\n",
    "        setup_kwargs={\n",
    "            \"custom_crossover\": noop_crossover\n",
    "        },\n",
    "        expected_output=b\"Hello from crossover\")\n",
    "\n",
    "\n",
    "if __name__ == \"__main__\":\n",
    "  unittest.main()"
   ]
  }
 ],
 "metadata": {
  "kernelspec": {
   "display_name": "WIP_DL_Fuzzing",
   "language": "python",
   "name": "python3"
  },
  "language_info": {
   "codemirror_mode": {
    "name": "ipython",
    "version": 3
   },
   "file_extension": ".py",
   "mimetype": "text/x-python",
   "name": "python",
   "nbconvert_exporter": "python",
   "pygments_lexer": "ipython3",
   "version": "3.11.11"
  }
 },
 "nbformat": 4,
 "nbformat_minor": 2
}
